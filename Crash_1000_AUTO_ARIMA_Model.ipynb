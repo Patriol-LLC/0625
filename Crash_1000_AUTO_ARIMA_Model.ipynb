{
  "nbformat": 4,
  "nbformat_minor": 0,
  "metadata": {
    "colab": {
      "provenance": [],
      "authorship_tag": "ABX9TyOPCU+5cQAxWVXGkdjM7kXr",
      "include_colab_link": true
    },
    "kernelspec": {
      "name": "python3",
      "display_name": "Python 3"
    },
    "language_info": {
      "name": "python"
    }
  },
  "cells": [
    {
      "cell_type": "markdown",
      "metadata": {
        "id": "view-in-github",
        "colab_type": "text"
      },
      "source": [
        "<a href=\"https://colab.research.google.com/github/Patriol-LLC/0625/blob/main/Crash_1000_AUTO_ARIMA_Model.ipynb\" target=\"_parent\"><img src=\"https://colab.research.google.com/assets/colab-badge.svg\" alt=\"Open In Colab\"/></a>"
      ]
    },
    {
      "cell_type": "code",
      "execution_count": null,
      "metadata": {
        "id": "rCKDXgXp618q"
      },
      "outputs": [],
      "source": [
        "#Begin\n",
        "print('Beginning Crash 1000 ARMA Model Analysis')"
      ]
    },
    {
      "cell_type": "code",
      "source": [
        "#Loading depedencies\n",
        "print('\\nLoading depedencies and building functions')\n",
        "\n",
        "#Function definitions\n",
        "def make_plot(time_data,value_data,label_data,x_label_data='Days',y_label_data='USD'):\n",
        "    plt.plot(time_data,value_data,label=label_data)\n",
        "    plt.legend(loc='upper left')\n",
        "    plt.xlabel(x_label_data)\n",
        "    plt.ylabel(y_label_data)\n",
        "    plt.show()\n",
        "\n",
        "#We're going to build an ARIMA model\n",
        "#Depedencies\n",
        "import numpy as np\n",
        "import pandas as pd\n",
        "path = ''\n",
        "#Read CSV\n",
        "print('\\nReading in the data from ',path)\n",
        "print('=' * 80)\n",
        "crash_1000 = pd.read_csv(path)"
      ],
      "metadata": {
        "id": "bAKeGTAu7etL"
      },
      "execution_count": null,
      "outputs": []
    },
    {
      "cell_type": "code",
      "source": [
        "#Explore the data\n",
        "#Add time element\n",
        "print('\\nPreprocessing the data')\n",
        "print('=' * 80)\n",
        "crash_1000['candle'] = np.arange(0,len(crash_1000))\n",
        "\n",
        "#Drop any unused column\n",
        "crash_1000.drop(columns={'Unnamed: 0'},inplace=True)\n",
        "crash_1000.drop(columns={'real_volume'},inplace=True)\n",
        "crash_1000.drop(columns={'time'},inplace=True)\n",
        "\n",
        "#Feature engineering\n",
        "crash_1000['open_close_spread'] = crash_1000['open'] - crash_1000['close']\n",
        "crash_1000['high_low_spread'] = crash_1000['high'] - crash_1000['low']\n",
        "\n",
        "#Output\n",
        "print('\\nPlotting Crash 1000 close price')\n",
        "print('=' * 80)"
      ],
      "metadata": {
        "id": "4XBi0VK17i57"
      },
      "execution_count": null,
      "outputs": []
    },
    {
      "cell_type": "code",
      "source": [
        "#Plot the data\n",
        "import matplotlib.pyplot as plt\n",
        "\n",
        "#Plot close price\n",
        "make_plot(crash_1000['candle'],crash_1000['close'],'Crash 1000 Close USD','Time in Days','USD')\n",
        "\n",
        "#Before using an ARMA model, the data should be stationary\n",
        "\n",
        "#Output\n",
        "print('\\nPerforming stationarity test')"
      ],
      "metadata": {
        "id": "WMTP5iUP7lim"
      },
      "execution_count": null,
      "outputs": []
    },
    {
      "cell_type": "code",
      "source": [
        "#Import statsmodels depedencies\n",
        "from statsmodels.tsa.stattools import adfuller\n",
        "\n",
        "#ADFuller test\n",
        "adf , p , lags, nobs , cv , ic = adfuller(crash_1000['close'])\n",
        "\n",
        "#Interpreting Results\n",
        "print('\\nADF: {} || P-value: {}'.format(adf,p))\n",
        "print('-' * 80)\n",
        "\n",
        "#Output\n",
        "print('\\nDecomposing the series into its 3 components')\n",
        "print('-' * 80)\n",
        "\n",
        "#Output\n",
        "print('\\nLoading libraries: ')"
      ],
      "metadata": {
        "id": "e5uw1ENK7snm"
      },
      "execution_count": null,
      "outputs": []
    },
    {
      "cell_type": "code",
      "source": [
        "#Decompose the trend, seasonality and residual\n",
        "from statsmodels.tsa.seasonal import seasonal_decompose\n",
        "\n",
        "#Output\n",
        "print('\\nPerforming decmposition: ')\n",
        "\n",
        "#Perform the decomposition\n",
        "ss_decompose = seasonal_decompose(crash_1000['close'],model='additive',period=7)\n",
        "\n",
        "#Output\n",
        "print('\\nIsolating the terms of the time series')\n",
        "\n",
        "#Seperate the terms of the time series\n",
        "ss_trend = ss_decompose.trend\n",
        "ss_seasonal = ss_decompose.seasonal\n",
        "ss_residual = ss_decompose.resid\n",
        "\n",
        "#Output\n",
        "print('\\nPlotting Decomposed Close Price: ')\n",
        "\n",
        "#Print\n",
        "fig , axes = plt.subplots(4,1,sharex=True,sharey=False)\n",
        "\n",
        "#Figure height\n",
        "fig.set_figheight(15)\n",
        "fig.set_figwidth(10)\n",
        "\n",
        "#Set axes\n",
        "axes[0].plot(crash_1000['candle'],crash_1000['close'],label='Original')\n",
        "axes[0].legend(loc='upper left')\n",
        "\n",
        "axes[1].plot(crash_1000['candle'],ss_trend,label='Trend')\n",
        "axes[1].legend(loc='upper left')\n",
        "\n",
        "axes[2].plot(crash_1000['candle'],ss_seasonal,label='Seasonal')\n",
        "axes[2].legend(loc='upper left')\n",
        "\n",
        "axes[3].plot(crash_1000['candle'],ss_residual,label='Residual')\n",
        "axes[3].legend(loc='upper left')\n",
        "plt.show()\n",
        "\n",
        "print('=' * 80)\n",
        "\n",
        "print('\\nLoading autoarima dependencies')\n",
        "print('-' * 80)"
      ],
      "metadata": {
        "id": "pzvEQ4UM7xZe"
      },
      "execution_count": null,
      "outputs": []
    },
    {
      "cell_type": "code",
      "source": [
        "#Autoarima\n",
        "from pmdarima.arima import auto_arima\n",
        "\n",
        "#Autoarima model returns model best suited for the data\n",
        "#p ~ number of autoregressive terms\n",
        "#q ~ number of moving average terms\n",
        "#d ~ number of non-seasonal differences\n",
        "#p , d , q ~ represent non-seasonal components\n",
        "#P , D, Q  ~ represent seasonal components\n",
        "\n",
        "#Finding optimal model\n",
        "print('\\nPerforming Autoarima search ')\n",
        "arima_model = auto_arima(crash_1000['close'], start_p=1, d=1,start_q=1, max_p=5,max_q=5,max_d=5,m=12,start_P=0,D=1,start_Q=0,max_P=5,max_D=5,max_Q=5,seasonal=True, trace=True,error_action='ignore',suppress_warnings=True,stepwise=True,n_fits=50)\n",
        "\n",
        "#Arima model summary\n",
        "print('\\nModel Summary: ')\n",
        "print(arima_model.summary())\n",
        "#SAREIMAX(0,1,1)x(5,1,1,[],12)\n",
        "print('-' * 60)\n",
        "\n",
        "#Output\n",
        "print('\\nTrain Test Split ')\n",
        "\n",
        "original_length = len(crash_1000)\n",
        "\n",
        "#Split into train & test sets\n",
        "size = int(len(crash_1000) * (2/3))\n",
        "x_train , x_test = crash_1000.loc[0:size,'close'] , crash_1000.loc[size:len(crash_1000),'close']\n",
        "\n",
        "#Ouput done\n",
        "print(\"\\nSuccuefully performed train and test split\" if ( original_length == (len(x_train) + len(x_test)) ) else \"\\n[ERROR]: Original length and sum of train test split do not tally!\")\n",
        "print('-'*60)\n",
        "\n",
        "\n",
        "#Output SARIMAX\n",
        "print('\\nLoading SARIMAX Libraries ')\n",
        "print('-'*60)"
      ],
      "metadata": {
        "id": "aFMKtu4y72C_"
      },
      "execution_count": null,
      "outputs": []
    },
    {
      "cell_type": "code",
      "source": [
        "#Depedency\n",
        "from statsmodels.tsa.statespace.sarimax import SARIMAX\n",
        "\n",
        "#Train the model\n",
        "print('\\nTraining the model ')\n",
        "sarimax_model = SARIMAX(x_train['close'],order = (0,1,1),seasonal_order = (5,1,1,12))\n",
        "\n",
        "print('\\nFitting the model ')\n",
        "result = sarimax_mode.fit()\n",
        "\n",
        "print('\\nModel summary ')\n",
        "result.summary()\n",
        "\n",
        "#End of file\n",
        "print('\\nEnd of Crash 1000 ARMA Model')\n",
        "print('-' * 80)"
      ],
      "metadata": {
        "id": "DWxwpOrv7RCZ"
      },
      "execution_count": null,
      "outputs": []
    }
  ]
}